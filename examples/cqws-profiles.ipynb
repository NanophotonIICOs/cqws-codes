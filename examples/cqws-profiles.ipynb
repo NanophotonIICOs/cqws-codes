{
 "cells": [
  {
   "cell_type": "code",
   "execution_count": 1,
   "metadata": {},
   "outputs": [],
   "source": [
    "#============== NUMBA AND NUMPY ==============\n",
    "import sys\n",
    "import os\n",
    "import numpy as np\n",
    "from numpy import linalg as LA\n",
    "import scipy.constants\n",
    "import matplotlib.pyplot as plt\n",
    "import matplotlib as mpl\n",
    "from tqdm import tqdm\n",
    "import matplotlib.gridspec as gridspec\n",
    "\n",
    "import solvercqws2 as solver\n",
    "from IPython.display import display, Math\n",
    "from tabulate import tabulate\n",
    "\n",
    "q = 1.602176e-19 #C\n",
    "kb = 1.3806504e-23 #J/K\n",
    "nii = 0.0\n",
    "hbar = 1.054588757e-34\n",
    "m_e= 9.1093826E-31 #kg\n",
    "pi=np.pi\n",
    "eps0= 8.8541878176e-12 #F/m\n",
    "J2meV=1e3/q\n",
    "from thomas_solve  import TDMA\n",
    "import platform\n",
    "\n"
   ]
  },
  {
   "cell_type": "code",
   "execution_count": 2,
   "metadata": {},
   "outputs": [],
   "source": [
    "from scipy.sparse import dia_matrix\n",
    "\n",
    "class schro:\n",
    "    def __init__(self,model,pote,particle='e'):\n",
    "        self.dx       = model.dx\n",
    "        self.dz       = model.dx\n",
    "        self.n        = model.n_max\n",
    "        self.subbands = model.subbands \n",
    "        self.xaxis    = model.xaxis\n",
    "        self.z        = model.xaxis\n",
    "        self.Fapp     = model.Fapp\n",
    "        self.T           = model.T\n",
    "        self.pote     = pote+self.Fapp*q*self.xaxis\n",
    "        if particle=='e':\n",
    "            self.me       = model.cb_meff\n",
    "            self.Qc       = model.Qc\n",
    "        elif particle=='hh':\n",
    "            self.me       = model.vbhh_meff\n",
    "            self.Qv       = model.Qv\n",
    "        elif particle=='lh':\n",
    "            self.me       = model.vblh_meff\n",
    "            self.Qv       = model.Qv\n",
    "        self.material  = model.material\n",
    "    \n",
    "        \n",
    "    def QuantumSolutions(self):\n",
    "            #self.xe    = np.zeros(self.subbands)\n",
    "            #self.xpsi  = np.zeros((self.n,self.subbands))\n",
    "            self.cb = self.pote\n",
    "            #self.Hamiltonian_e  = H(self.cb,self.me,self.Fapp,self.dx,self.n)\n",
    "            # Eigenvalues and Eigenvectors to electrons in Conduction bands\n",
    "            #upper_e       = np.diag(self.Hamiltonian_e,k=1)\n",
    "            #diagonal_e    = np.diag(self.Hamiltonian_e,k=0)\n",
    "            #lower_e       = np.diag(self.Hamiltonian_e,k=-1)\n",
    "            #Hn_e          = scipy.sparse.diags(H_diags_e, [-1,0,1], format='csc')\n",
    "            #self.ew,self.psiw= eigs(Hn_e,k=self.subbands, which='LR', sigma=sigma)\n",
    "            # We shift the potential so that it is possitive with the minimum value around zero\n",
    "            q=1.60217646e-19\n",
    "            h=6.626068e-34\n",
    "            hbar=1.05457148e-34\n",
    "            m0=9.10938188e-31\n",
    "            fe =self.pote\n",
    "            z = self.xaxis\n",
    "            l = max(z)\n",
    "            e0 = hbar ** 2 / (m0 * l ** 2)\n",
    "            quasiconfined=0.0\n",
    "            dz = np.gradient(z / l)\n",
    "            N = len(fe)\n",
    "            offset = np.amin(fe)\n",
    "            fe = (fe - offset)/e0\n",
    "            m = self.me/m0\n",
    "            # Vectorise effective mass differences to avoid a loop\n",
    "            m = np.insert(m, (0, len(m)), (m[0], m[-1]))\n",
    "            m_a = m[0:-2]  # m_(j-1) from Frensley, W. R. (1991)\n",
    "            m_b = m[1:-1]  # m_j\n",
    "            m_c = m[2:]  # m_(j+1)\n",
    "            # These are the interior diagonals of equation 18 in the above ref.\n",
    "            axis = 0.25 / dz ** 2 * (\n",
    "            1 / m_a + 2 / m_b + 1 / m_c) + fe   # d_j from Frensley, W. R. (1991), modified to include kt and normalised variables\n",
    "            upper = 0.25 / dz ** 2 * (1 / m_a + 1 / m_b)  # s_(j+1)\n",
    "            lower = 0.25 / dz ** 2 * (1 / m_b + 1 / m_c)  # s_j\n",
    "\n",
    "            index = (-1, 0, 1)\n",
    "            diagonals = (-lower, axis, -upper)\n",
    "            H = dia_matrix((diagonals, index), shape=(N, N))\n",
    "            sigma=0.0\n",
    "            num=(self.subbands,self.subbands)\n",
    "            E, Psi = eigs(H, k=num[0], which='LR', sigma=sigma)\n",
    "            potmax = max(fe) + quasiconfined * q / e0\n",
    "            if quasiconfined < 0.0:\n",
    "                potmax = max(E)\n",
    "            confined_levels = [i for i, e in enumerate(E) if (e < potmax and i < num[1])]\n",
    "            E = E[confined_levels].real\n",
    "            Psi = np.array(Psi[:, confined_levels])\n",
    "            #Psi = [p / np.sqrt(np.trapz(p*p.conjugate(), x=z.T)) for p in Psi.real]\n",
    "            E = E * e0 + offset\n",
    "            \n",
    "            for i in range(len(confined_levels)):\n",
    "                Psi[:,i] = Psi[:,i]/np.sqrt(np.trapz(abs(Psi[:,i])**2))\n",
    "            \n",
    "            class Results(): pass\n",
    "            results          = Results()\n",
    "            results.z        = z\n",
    "            results.psi      = Psi.real\n",
    "            results.e        = np.array(E)\n",
    "            results.cb       = self.pote\n",
    "            results.dx       = dz\n",
    "            results.subbands = confined_levels \n",
    "            return results"
   ]
  },
  {
   "cell_type": "code",
   "execution_count": 8,
   "metadata": {},
   "outputs": [
    {
     "name": "stdout",
     "output_type": "stream",
     "text": [
      "Total layer number: 4\n",
      "510\n"
     ]
    },
    {
     "data": {
      "image/png": "[encoded data removed]",
      "text/plain": [
       "<Figure size 432x288 with 1 Axes>"
      ]
     },
     "metadata": {
      "needs_background": "light"
     },
     "output_type": "display_data"
    },
    {
     "name": "stdout",
     "output_type": "stream",
     "text": [
      "CPU times: user 145 ms, sys: 11.8 ms, total: 156 ms\n",
      "Wall time: 155 ms\n"
     ]
    }
   ],
   "source": [
    "%%time\n",
    "from solvercqws import H\n",
    "import solvercqws as solver\n",
    "from scipy.sparse import dia_matrix\n",
    "from scipy.sparse.linalg import eigs\n",
    "from scipy.sparse.linalg import eigsh\n",
    "\n",
    "class Structure(object): pass\n",
    "sem01 = Structure() # this will be our datastructure\n",
    "# TEMPERATURE\n",
    "sem01.T = 30.0#Kelvin\n",
    "# Binding Energy\n",
    "# Band Offset ratios\n",
    "sem01.Qc = 0.65\n",
    "sem01.Qv = 0.35\n",
    "# Total subband number to be calculated for electrons\n",
    "sem01.subbands = 10\n",
    "# APPLIED ELECTRIC FIELD\n",
    "sem01.Fapp = 0e5 # (V/m)\n",
    "# For 1D, z-axis is choosen\n",
    "sem01.gridfactor =0.05#nm\n",
    "sem01.structure_name=\"sqw-v1\"\n",
    "sem01.HHBinding =6.1e-3 #meV\n",
    "sem01.LHBinding =6.8e-3 #meV\n",
    "# Band Offset ratios\n",
    "# REGIONS\n",
    "# Region input is a two-dimensional list input.\n",
    "#         | Thickness (nm) | Material | Alloy fraction | Doping(cm^-3) | n or p type |\n",
    "\n",
    "width=5.0\n",
    "sem01.material =[\n",
    "         [10.0, 'AlGaAs',   0.15,  0e18, 'i','b'],\n",
    "         [width,'GaAs'  ,     0,   0e18, 'i','w'],\n",
    "         [0.5, 'InAs',   0.0,  0e18, 'i','b'],\n",
    "          [10.0, 'AlGaAs',   0.15,  0e18, 'i','b'],\n",
    "\n",
    "]\n",
    "# sem01.material =[\n",
    "#          [20.0, 'AlGaAs',   0.4,  1.3e18, 'i','b'],\n",
    "#          [3.0,'GaAs'  ,     0,   1.3e18, 'n','w'],\n",
    "#          [25.0, 'AlGaAs',   0.4,  1.3e18, 'i','b'],\n",
    "#          [7,'GaAs'  ,     0,   0e18, 'i','w'],\n",
    "#          [15, 'AlGaAs',   0.2,  0e18, 'i','b'],\n",
    "#          [5,'GaAs'  ,     0,   0e18, 'i','w'],\n",
    "#          [25.0, 'AlGaAs',   0.4,  1.3e18, 'i','b'],\n",
    "#          [3.0,'GaAs'  ,     0,   1.3e18, 'n','w'],\\\n",
    "#          [20.0, 'AlGaAs',   0.4,  1.3e18, 'i','b'],\n",
    "# ]\n",
    "sem01.material\n",
    "str01 = sem01\n",
    "nm = 1e-9\n",
    "# RUN SIMULATION\n",
    "model01 = solver.StructureFrom(str01) #\n",
    "#model01.cb = model01.cb-np.min(model01.cb)\n",
    "\n",
    "# RUN SIMULATION\n",
    "#model02.cb = model02.cb-np.min(model02.cb)\n",
    "\n",
    "sol=schro(model01,model01.cb).QuantumSolutions()\n",
    "\n",
    "print(len(model01.xaxis))\n",
    "plt.plot(model01.xaxis/1e-10,model01.cb/q)\n",
    "plt.plot(model01.xaxis/1e-10,10*abs(sol.psi[:,0])**2+sol.e[0]/q)\n",
    "\n",
    "plt.show()"
   ]
  },
  {
   "cell_type": "markdown",
   "metadata": {},
   "source": [
    "# Export data"
   ]
  },
  {
   "cell_type": "code",
   "execution_count": 16,
   "metadata": {},
   "outputs": [],
   "source": [
    "cb = np.array([model01.xaxis/1e-9,model01.cb/q,10*abs(sol.psi[:,0])**2+sol.e[0]/q]).T\n",
    "# psi = np.array([model01.xaxis/1e-9,10*abs(sol.psi[:,0])**2+sol.e[0]/q]).T\n",
    "\n",
    "np.savetxt(\"data/sqwc-p1.dat\",cb,delimiter=',')"
   ]
  },
  {
   "cell_type": "code",
   "execution_count": 17,
   "metadata": {},
   "outputs": [
    {
     "data": {
      "text/plain": [
       "array([[ 0.        ,  1.63359365,  1.5537991 ],\n",
       "       [ 0.05      ,  1.63359365,  1.55379916],\n",
       "       [ 0.1       ,  1.63359365,  1.55379924],\n",
       "       ...,\n",
       "       [25.35      ,  1.63359365,  1.55379948],\n",
       "       [25.4       ,  1.63359365,  1.55379926],\n",
       "       [25.45      ,  1.63359365,  1.55379913]])"
      ]
     },
     "execution_count": 17,
     "metadata": {},
     "output_type": "execute_result"
    }
   ],
   "source": [
    "cb"
   ]
  }
 ],
 "metadata": {
  "kernelspec": {
   "display_name": "Python 3.9.13 ('base')",
   "language": "python",
   "name": "python3"
  },
  "language_info": {
   "codemirror_mode": {
    "name": "ipython",
    "version": 3
   },
   "file_extension": ".py",
   "mimetype": "text/x-python",
   "name": "python",
   "nbconvert_exporter": "python",
   "pygments_lexer": "ipython3",
   "version": "3.9.12"
  },
  "vscode": {
   "interpreter": {
    "hash": "5a792185954b6f3a19089c02688d73d51037e5be0ebbe11a7ac93b3cfbfd3a83"
   }
  },
  "widgets": {
   "application/vnd.jupyter.widget-state+json": {
    "state": {},
    "version_major": 2,
    "version_minor": 0
   }
  }
 },
 "nbformat": 4,
 "nbformat_minor": 4
}
