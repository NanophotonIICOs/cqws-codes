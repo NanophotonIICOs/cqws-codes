{
 "cells": [
  {
   "cell_type": "code",
   "execution_count": 1,
   "metadata": {},
   "outputs": [],
   "source": [
    "import sys\n",
    "import os\n",
    "import numpy as np\n",
    "from numpy import linalg as LA\n",
    "import scipy.constants\n",
    "import matplotlib.pyplot as plt\n",
    "import matplotlib as mpl\n",
    "from tqdm import tqdm\n",
    "\n",
    "pathmoudules = '/mnt/c/texlive/2019/bin/win32'\n",
    "if pathmoudules not in sys.path:\n",
    "    sys.path.append(pathmoudules)\n",
    "#import calculos as solver\n",
    "import SolverPL as solver\n",
    "from IPython.display import display, Math\n",
    "\n",
    "q = 1.602176e-19 #C\n",
    "kb = 1.3806504e-23 #J/K\n",
    "nii = 0.0\n",
    "hbar = 1.054588757e-34\n",
    "m_e= 9.1093826E-31 #kg\n",
    "pi=np.pi\n",
    "eps0= 8.8541878176e-12 #F/m\n",
    "J2meV=1e3/q\n",
    "from thomas_solve  import TDMA\n",
    "#matplotlib options\n",
    "plt.rcParams['font.family']         = 'Times New Roman'\n",
    "#plt.rcParams['font.serif']          = 'Times'\n",
    "plt.rcParams['xtick.labelsize']     = 17\n",
    "plt.rcParams['ytick.labelsize']     = 17\n",
    "plt.rcParams['axes.linewidth']      = 2\n",
    "plt.rcParams[\"xtick.minor.visible\"] =  True\n",
    "plt.rcParams[\"xtick.major.size\"]    =  10\n",
    "plt.rcParams[\"xtick.minor.size\"]    =  5\n",
    "plt.rcParams[\"xtick.major.width\"]   =  2\n",
    "plt.rcParams[\"xtick.minor.width\"]   =  2\n",
    "plt.rcParams[\"xtick.direction\"]     =  'in'\n",
    "plt.rcParams[\"ytick.minor.visible\"] =  True\n",
    "plt.rcParams[\"ytick.major.size\"]    =  10\n",
    "plt.rcParams[\"ytick.minor.size\"]    =  5\n",
    "plt.rcParams[\"ytick.major.width\"]   =  2\n",
    "plt.rcParams[\"ytick.minor.width\"]   =  2\n",
    "plt.rcParams[\"ytick.direction\"]     =  'in'\n",
    "plt.rcParams['text.usetex']         = True\n",
    "plt.rcParams['legend.frameon']      = False\n",
    "\n",
    "import platform\n",
    "if platform.system() == 'Linux':\n",
    "    newpath = os.getcwd() + '/DATA'\n",
    "    \n",
    "elif  platform.system() == 'Windows':\n",
    "    newpath = os.getcwd() + '\\\\DATA'\n",
    "    \n",
    "if not os.path.exists(newpath):\n",
    "    os.makedirs(newpath)\n",
    "\n",
    "\n",
    "\n",
    "\n",
    "\n",
    "mpl.rcParams['font.size'] = 13\n"
   ]
  },
  {
   "cell_type": "code",
   "execution_count": 6,
   "metadata": {},
   "outputs": [
    {
     "name": "stdout",
     "output_type": "stream",
     "text": [
      "Total layer number: 5\n"
     ]
    },
    {
     "data": {
      "text/latex": [
       "$\\displaystyle \\text{Transition} \\,E_{0}-HH_{0}: 1.5294$"
      ],
      "text/plain": [
       "<IPython.core.display.Math object>"
      ]
     },
     "metadata": {},
     "output_type": "display_data"
    },
    {
     "data": {
      "text/latex": [
       "$\\displaystyle \\text{Transition} \\,E_{0}-LH_{0}: 1.5364$"
      ],
      "text/plain": [
       "<IPython.core.display.Math object>"
      ]
     },
     "metadata": {},
     "output_type": "display_data"
    },
    {
     "name": "stdout",
     "output_type": "stream",
     "text": [
      "CPU times: user 672 ms, sys: 1.39 s, total: 2.06 s\n",
      "Wall time: 362 ms\n"
     ]
    }
   ],
   "source": [
    "%%time\n",
    "\n",
    "\n",
    "\n",
    "class Structure(object): pass\n",
    "s4 = Structure() # this will be our datastructure\n",
    "\n",
    "# TEMPERATURE\n",
    "s4.T = 12 #Kelvin\n",
    "s4.Binding = 5e-3\n",
    "#s0.scheme = \n",
    "\n",
    "\n",
    "s4.Emin = 1.52\n",
    "s4.Emax = 1.55\n",
    "s4.delta = 0.1e-3\n",
    "# Total subband number to be calculated for electrons\n",
    "s4.subbands = 1\n",
    "# APPLIED ELECTRIC FIELD\n",
    "s4.Fapp = 0e6 # (V/m)\n",
    "\n",
    "# For 1D, z-axis is choosen\n",
    "s4.gridfactor = 0.1#nm\n",
    "\n",
    "# REGIONS\n",
    "# Region input is a two-dimensional list input.\n",
    "#         | Thickness (nm) | Material | Alloy fraction | Doping(cm^-3) | n or p type |\n",
    "\n",
    "\n",
    "s4.material =[\n",
    "             [ 300.0, 'AlGaAs',   0.15,   0, 'n','Barrier'],\n",
    "             [ 11.87,'GaAs'  ,      0,   0, 'n','Well'],\n",
    "             [ 1.98, 'AlGaAs',   0.15,   0, 'n','Barrier'],\n",
    "             [ 13.85,'GaAs'  ,      0,   0, 'n','Well'],\n",
    "             [ 300.0, 'AlGaAs',   0.15,   0, 'n','Barrier'],\n",
    "             #[ 30.0, 'AlGaAs',   0.15,   0, 'n','Barrier'],\n",
    "             #[ 20.0,   'GaAs',      0,   0, 'n','Substrate']\n",
    "             ]\n",
    "\n",
    "# s2.material =[\n",
    "#              [ 10 ,'GaAs'  ,      0,   0, 'n','Well'],\n",
    "#              [ 300, 'AlGaAs',   0.15,   0, 'n','Barrier']\n",
    "#               ]\n",
    "\n",
    "\n",
    "\n",
    "\n",
    "\n",
    "\n",
    "structure4 = s4\n",
    "\n",
    "\n",
    "\n",
    "nm = 1e-9\n",
    "\n",
    "# RUN SIMULATION\n",
    "model4 = solver.StructureFrom(structure4) #\n",
    "\n",
    "sol4 = solver.Schrodinger(model4,sparse = True,absolute =True)\n",
    "\n",
    "TrArr4 = np.vstack((sol4.TEHH,sol4.TELH))\n",
    "np.savetxt(newpath+'/Tr-M4_3523.dat',TrArr4,delimiter=',')\n"
   ]
  },
  {
   "cell_type": "code",
   "execution_count": 7,
   "metadata": {},
   "outputs": [
    {
     "data": {
      "text/plain": [
       "[<matplotlib.lines.Line2D at 0x7f92036df240>]"
      ]
     },
     "execution_count": 7,
     "metadata": {},
     "output_type": "execute_result"
    },
    {
     "data": {
      "image/png": "[encoded data removed]",
      "text/plain": [
       "<Figure size 720x720 with 1 Axes>"
      ]
     },
     "metadata": {
      "needs_background": "light"
     },
     "output_type": "display_data"
    }
   ],
   "source": [
    "fig,ax = plt.subplots(1,1,figsize=(10,10))\n",
    "ax.plot(1239.4/sol4.evec,sol4.PL)"
   ]
  },
  {
   "cell_type": "code",
   "execution_count": 51,
   "metadata": {},
   "outputs": [
    {
     "data": {
      "text/plain": [
       "810.9133734624445"
      ]
     },
     "execution_count": 51,
     "metadata": {},
     "output_type": "execute_result"
    }
   ],
   "source": [
    "1239.4/1.5284"
   ]
  },
  {
   "cell_type": "code",
   "execution_count": null,
   "metadata": {},
   "outputs": [],
   "source": []
  }
 ],
 "metadata": {
  "kernelspec": {
   "display_name": "Python 3",
   "language": "python",
   "name": "python3"
  },
  "language_info": {
   "codemirror_mode": {
    "name": "ipython",
    "version": 3
   },
   "file_extension": ".py",
   "mimetype": "text/x-python",
   "name": "python",
   "nbconvert_exporter": "python",
   "pygments_lexer": "ipython3",
   "version": "3.6.7"
  }
 },
 "nbformat": 4,
 "nbformat_minor": 4
}
