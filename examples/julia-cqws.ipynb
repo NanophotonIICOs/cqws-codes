{
 "cells": [
  {
   "cell_type": "code",
   "execution_count": 6,
   "metadata": {},
   "outputs": [
    {
     "name": "stdout",
     "output_type": "stream",
     "text": [
      "  0.000418 seconds (215 allocations: 19.234 KiB)\n",
      "  0.000270 seconds (176 allocations: 16.203 KiB)\n",
      "  0.000241 seconds (176 allocations: 16.172 KiB)\n",
      "  0.000112 seconds (81 allocations: 5.969 KiB)\n",
      "  0.000057 seconds (81 allocations: 5.969 KiB)\n",
      "  0.000062 seconds (81 allocations: 5.969 KiB)\n",
      "  0.180117 seconds (230.79 k allocations: 16.177 MiB)\n",
      "  0.188639 seconds (173.42 k allocations: 12.264 MiB)\n"
     ]
    }
   ],
   "source": [
    "@time using Printf\n",
    "@time using LinearAlgebra\n",
    "@time import SparseArrays\n",
    "@time import GSL\n",
    "@time using Arpack\n",
    "#@time using GR\n",
    "@time using QuadGK\n",
    "@time using Roots\n",
    "@time using PGFPlotsX"
   ]
  },
  {
   "cell_type": "markdown",
   "metadata": {},
   "source": [
    "# Parameters \n"
   ]
  },
  {
   "cell_type": "markdown",
   "metadata": {},
   "source": [
    "+ Materials Database\n",
    "\n",
    " + GaAs, $\\mathrm{Al_{x}Ga_{1-x}As}$"
   ]
  },
  {
   "cell_type": "code",
   "execution_count": 12,
   "metadata": {},
   "outputs": [
    {
     "name": "stdout",
     "output_type": "stream",
     "text": [
      "  0.071181 seconds (48.45 k allocations: 2.934 MiB, 98.71% compilation time)\n"
     ]
    },
    {
     "data": {
      "text/plain": [
       "1.426"
      ]
     },
     "execution_count": 12,
     "metadata": {},
     "output_type": "execute_result"
    }
   ],
   "source": [
    "@time Material = Dict{Symbol,Dict}(\n",
    ":GaAs=>Dict{Symbol,Any}(\n",
    "        :Eg    => 1.519,\n",
    "        :Eg300 => 1.426,\n",
    "        :me    => 0.068,\n",
    "        :mhh   => 0.450,\n",
    "        :mlh   => 0.087,\n",
    "        :ϵ     => 12.9,\n",
    "        :α     => 8.871,\n",
    "        :β     => 572.0,\n",
    "        :gD    => 2,\n",
    "        :gA    => 4,\n",
    "        :EgT   => T -> (1.519-(((5.408E-4)*(T^2))/(T + 204)))),\n",
    "    \n",
    ":AlGaAs => Dict{Symbol,Any}(\n",
    "                :Eg300 =>x-> 1426+1.247*x\n",
    "                :me  => x -> 0.067 + 0.083*x,\n",
    "                :mhh => x -> 0.50  + 0.29*x,\n",
    "                :mlh => x -> 0.087 + 0.063*x,\n",
    "                :ϵ   => x -> 12.9 - 3.12*x\n",
    "        ));\n",
    "\n",
    "\n",
    "Material[:GaAs][:Eg300]"
   ]
  },
  {
   "cell_type": "markdown",
   "metadata": {},
   "source": [
    "# Design Profile ($\\Gamma$) "
   ]
  },
  {
   "cell_type": "markdown",
   "metadata": {},
   "source": [
    "+ Test "
   ]
  },
  {
   "cell_type": "code",
   "execution_count": 3,
   "metadata": {},
   "outputs": [],
   "source": [
    "global nm   = 1e-9\n",
    "global q    = GSL.Const.MKSA_ELECTRON_CHARGE #C\n",
    "global Kb   = GSL.Const.MKSA_BOLTZMANN #J/K\n",
    "global Kbe  = GSL.Const.MKSA_BOLTZMANN /GSL.Const.MKSA_ELECTRON_CHARGE #eV\n",
    "global ħ    = GSL.Const.MKSA_PLANCKS_CONSTANT_HBAR \n",
    "global ħeV  = GSL.Const.MKSA_PLANCKS_CONSTANT_HBAR /GSL.Const.MKSA_ELECTRON_CHARGE \n",
    "global m0   = GSL.Const.MKSA_MASS_ELECTRON#kg\n",
    "global ϵ0   = GSL.GSL.Const.MKSA_VACUUM_PERMITTIVITY #F/m\n",
    "# global J2eV = 1/q #Joules to eV\n",
    "# global eV2J = 1*q #eV to Joules\n",
    "\n",
    "global meV  = 1E3 \n",
    "function Structure(str,T,dx,Qc,Qv)\n",
    "    dx = dx*nm;\n",
    "    No_Layers = size(str)[1]\n",
    "    @printf \"Total number of layer in the Structure: %d \\n\" No_Layers\n",
    "    xmax = sum(str[i,2] for i in 1:No_Layers)*nm\n",
    "    nmax = floor(Int,round(xmax/dx))\n",
    "    xaxis = range(0, stop = xmax , length = nmax) \n",
    "    # Create arrays to export\n",
    "    CB_Meff = zeros(nmax)\n",
    "    VCB     = zeros(nmax)\n",
    "    position = 0 \n",
    "    global Δc\n",
    "    \n",
    "    for i in 1:No_Layers\n",
    "        matType = str[i,1]\n",
    "        startindex = floor(Int,round(position*nm/dx))\n",
    "        position +=  str[i,2]\n",
    "        finishindex = floor(Int,round(position*nm/dx))\n",
    "        x = str[i,3]\n",
    "        \n",
    "        # fill potential profile, mass effective and dielectric vectors\n",
    "        if matType == :GaAs\n",
    "            if startindex == 0\n",
    "                VCB[startindex+1:finishindex].=     0\n",
    "                ϵ[startindex+1:finishindex].=     Material[:GaAs][:ϵ]*ϵ0\n",
    "                CB_Meff[startindex+1:finishindex].= Material[:GaAs][:me]*m0\n",
    "            else\n",
    "                VCB[startindex:finishindex].=     0\n",
    "                ϵ[startindex:finishindex].=     Material[:GaAs][:ϵ]*ϵ0\n",
    "                CB_Meff[startindex:finishindex].= Material[:GaAs][:me]*m0\n",
    "            end\n",
    "        elseif  matType == :AlGaAs\n",
    "            if startindex == 0\n",
    "                VCB[startindex+1:finishindex].=     (Material[:GaAs][:Eg300])\n",
    "                CB_Meff[startindex+1:finishindex].=  (Material[:AlGaAs][:me](x))*m0\n",
    "            else\n",
    "                VCB[startindex:finishindex].=      Δc #(GaAs[:CBO]*(x*AlAs[:Eg]+(1-x)*GaAs[:Eg]))*q\n",
    "                CB_Meff[startindex:finishindex].= (Material[:AlGaAs][:me](x))*m0\n",
    "            end     \n",
    "        end\n",
    "        \n",
    "        \n",
    "    end\n",
    "    \n",
    "    return Dict{Symbol,Any}(:VCB=>VCB,:ϵ=>ϵ,:CBMeff=>CB_Meff,:Dop=>dop,:xaxis=>xaxis,:nmax=>nmax,:Δc => Δc)\n",
    "    \n",
    "end;\n",
    "\n"
   ]
  },
  {
   "cell_type": "code",
   "execution_count": 9,
   "metadata": {},
   "outputs": [
    {
     "data": {
      "text/plain": [
       "1.3806504e-23"
      ]
     },
     "execution_count": 9,
     "metadata": {},
     "output_type": "execute_result"
    }
   ],
   "source": [
    "Kb"
   ]
  },
  {
   "cell_type": "markdown",
   "metadata": {},
   "source": [
    "# Schrodinger Equation"
   ]
  },
  {
   "cell_type": "markdown",
   "metadata": {},
   "source": [
    " + Define Hamiltonian"
   ]
  },
  {
   "cell_type": "code",
   "execution_count": 5,
   "metadata": {},
   "outputs": [],
   "source": [
    "function Hamiltonian(pot::Array,mass::Array,dx::Float64,n::Integer)\n",
    "    vb = pot\n",
    "    meff = mass\n",
    "    H = zeros(n,n)\n",
    "    dxi = dx*nm\n",
    "    m_minus = (meff[1]+meff[2])/2.0\n",
    "    m_plus  = (meff[1]+meff[2])/2.0\n",
    "    sn_minus = -(ħ^2/dxi^2)/(2.0*m_minus)\n",
    "    sn_plus  = -(ħ^2/dxi^2)/(2.0*m_plus)\n",
    "    bi       = 0.5*(ħ^2/dxi^2)*((m_plus+m_minus)/(m_plus*m_minus))\n",
    "    H[1,1] = bi + 0\n",
    "    H[1,2] = sn_plus\n",
    "    for i in 2:n-1\n",
    "        m_minus  = (meff[i]+meff[i-1])/2.0\n",
    "        m_plus   = (meff[i+1]+meff[i])/2.0\n",
    "        sn_minus = -(ħ^2/dxi^2)/(2.0*m_minus)\n",
    "        sn_plus  = -(ħ^2/dxi^2)/(2.0*m_plus)\n",
    "        bi       = 0.5*(ħ^2/dxi^2)*((m_plus+m_minus)/(m_plus*m_minus))\n",
    "        H[i,i-1] = sn_minus\n",
    "        H[i,i]   = bi + vb[i]\n",
    "        H[i,i+1] = sn_plus\n",
    "    end\n",
    "    m_minus = (meff[n-1]+meff[n])/2.0\n",
    "    m_plus  = (meff[n]+meff[n-1])/2.0\n",
    "    sn_minus = -(ħ^2/dxi^2)/(2.0*m_minus)\n",
    "    sn_plus  = -(ħ^2/dxi^2)/(2.0*m_plus)\n",
    "    bi = 0.5*(ħ^2/dxi^2)*((m_plus+m_minus)/(m_plus*m_minus))\n",
    "    H[n,n] = bi + 0\n",
    "    H[n,n-1] = sn_minus\n",
    "    \n",
    "    return H      \n",
    "end;"
   ]
  },
  {
   "cell_type": "markdown",
   "metadata": {},
   "source": [
    " + Define $\\mathrm{Schr{o}dinger}$ function\n",
    " "
   ]
  },
  {
   "cell_type": "code",
   "execution_count": 6,
   "metadata": {},
   "outputs": [],
   "source": [
    "function Schrodinger(pot,mass,dx,n,sparse::Bool,subbands::Integer)\n",
    "    H = Hamiltonian(pot,mass,dx,n)\n",
    "    if sparse == true\n",
    "        Hn  = SparseArrays.sparse(H)\n",
    "        solve = eigs(Hn,nev=subbands,which=:LR,sigma=0)\n",
    "        eig =  solve[1]\n",
    "         ψ  =  solve[2]\n",
    "    elseif sparse == false\n",
    "        eig = eigvals(H)[1:subbands]\n",
    "        ψ   = eigvecs(H)[:,1:subbands]\n",
    "    end\n",
    "    return Dict{Symbol,Array}(:λ => eig, :ψ => ψ)\n",
    "end;\n",
    "\n",
    "            "
   ]
  },
  {
   "cell_type": "code",
   "execution_count": 22,
   "metadata": {},
   "outputs": [
    {
     "name": "stdout",
     "output_type": "stream",
     "text": [
      "Total number of layer in the Structure: 5 \n"
     ]
    },
    {
     "data": {
      "text/plain": [
       "Dict{Symbol,Array} with 2 entries:\n",
       "  :λ => [2.54188e-21, 3.77735e-21, 1.07972e-20, 1.45843e-20, 2.07744e-20]\n",
       "  :ψ => [-4.7322e-9 -1.05293e-8 … -3.53904e-6 0.0013317; -9.45814e-9 -2.1038e-8…"
      ]
     },
     "execution_count": 22,
     "metadata": {},
     "output_type": "execute_result"
    }
   ],
   "source": [
    "str = [ :AlGaAs 30.0 0.15 0 \"n\" :layer  ;\n",
    "        :GaAs   11.87 0.0 0 \"n\" :well ;\n",
    "        :AlGaAs 1.98  0.15 0 \"n\" :layer  ;\n",
    "        :GaAs   11.87 0.0 0  \"n\" :well ;\n",
    "        :AlGaAs 30.0 0.15 0 \"n\" :layer  ;\n",
    "        ]\n",
    "\n",
    "dx = 0.2\n",
    "st = Structure(str,30,dx)\n",
    "\n",
    "\n",
    "VCB     = st[:VCB];\n",
    "Eps     = st[:ϵ];\n",
    "CB_Meff = st[:CBMeff];\n",
    "dop     = st[:Dop];\n",
    "xaxis   = st[:xaxis];\n",
    "nmax    = st[:nmax];\n",
    "Δc      = st[:Δc];\n",
    "\n",
    "\n",
    "Schrodinger(VCB,CB_Meff,dx,nmax,true,5)"
   ]
  },
  {
   "cell_type": "code",
   "execution_count": 15,
   "metadata": {},
   "outputs": [
    {
     "data": {
      "text/plain": [
       "1.0000000000000006e-10"
      ]
     },
     "execution_count": 15,
     "metadata": {},
     "output_type": "execute_result"
    }
   ],
   "source": [
    "0.1*10^-9"
   ]
  },
  {
   "cell_type": "code",
   "execution_count": null,
   "metadata": {},
   "outputs": [],
   "source": []
  }
 ],
 "metadata": {
  "kernelspec": {
   "display_name": "Julia 1.6.1",
   "language": "julia",
   "name": "julia-1.6"
  },
  "language_info": {
   "file_extension": ".jl",
   "mimetype": "application/julia",
   "name": "julia",
   "version": "1.6.1"
  },
  "widgets": {
   "application/vnd.jupyter.widget-state+json": {
    "state": {},
    "version_major": 2,
    "version_minor": 0
   }
  }
 },
 "nbformat": 4,
 "nbformat_minor": 4
}
